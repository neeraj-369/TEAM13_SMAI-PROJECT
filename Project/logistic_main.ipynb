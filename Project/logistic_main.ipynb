{
 "cells": [
  {
   "cell_type": "code",
   "execution_count": 2,
   "metadata": {},
   "outputs": [],
   "source": [
    "import numpy as np\n",
    "import pandas as pd\n",
    "from sklearn.model_selection import train_test_split\n",
    "from data import getdata\n",
    "from sklearn.metrics import accuracy_score\n",
    "from sklearn.linear_model import LogisticRegression\n",
    "from sklearn.model_selection import cross_val_score\n",
    "import matplotlib.pyplot as plt"
   ]
  },
  {
   "cell_type": "code",
   "execution_count": 5,
   "metadata": {},
   "outputs": [],
   "source": [
    "c_data = [1e-5, 1e-1, 10]\n",
    "\n",
    "# k = 1e-5\n",
    "# while k <= 10:\n",
    "#     c_data.append(k)\n",
    "#     k = k * 10\n",
    "\n",
    "# print(c_data)"
   ]
  },
  {
   "cell_type": "code",
   "execution_count": 4,
   "metadata": {},
   "outputs": [
    {
     "name": "stdout",
     "output_type": "stream",
     "text": [
      "(247208, 54)\n"
     ]
    }
   ],
   "source": [
    "data, data_hand, data_chest, data_ankle = getdata()\n",
    "x = data[:,1:]\n",
    "y = data[:,0]\n",
    "x_train, x_test, y_train, y_test = train_test_split(x, y, test_size=0.2)"
   ]
  },
  {
   "cell_type": "code",
   "execution_count": null,
   "metadata": {},
   "outputs": [],
   "source": [
    "accuracy_whole = []\n",
    "c_whole = 0\n",
    "accuracy_max_whole = 0\n",
    "\n",
    "for i in c_data:\n",
    "    model = LogisticRegression(multi_class='multinomial', penalty='l2', solver='newton-cg', max_iter = 100, C = i)\n",
    "    accuracy = np.mean(cross_val_score(model, x_train, y_train, cv = 5))\n",
    "    accuracy_whole.append(accuracy)\n",
    "    print(accuracy)\n",
    "    if accuracy_max_whole < accuracy:\n",
    "        accuracy_max_whole = accuracy\n",
    "        c_whole = i\n",
    "\n",
    "\n",
    "print(accuracy_max_whole)\n",
    "plt.plot(x, y)\n",
    "plt.xlabel('C values')\n",
    "plt.ylabel('Accuracies')\n",
    "plt.title('Whole graph')\n",
    "plt.show()\n"
   ]
  },
  {
   "cell_type": "code",
   "execution_count": 18,
   "metadata": {},
   "outputs": [
    {
     "name": "stdout",
     "output_type": "stream",
     "text": [
      "0.9578900529913839\n"
     ]
    },
    {
     "name": "stderr",
     "output_type": "stream",
     "text": [
      "/Users/neeraj/opt/anaconda3/lib/python3.9/site-packages/sklearn/utils/optimize.py:210: ConvergenceWarning: newton-cg failed to converge. Increase the number of iterations.\n",
      "  warnings.warn(\n"
     ]
    }
   ],
   "source": [
    "model1 = LogisticRegression(random_state=0, multi_class='multinomial', penalty='l2', solver='newton-cg', max_iter = 100, C = 0.01).fit(x_train, y_train)\n",
    "preds = model1.predict(x_test)\n",
    "\n",
    "ans = accuracy_score(y_test, preds)\n",
    "print(ans)"
   ]
  },
  {
   "cell_type": "code",
   "execution_count": 6,
   "metadata": {},
   "outputs": [],
   "source": [
    "x_hand = data_hand[:,1:]\n",
    "y_hand = data_hand[:,0]\n",
    "x_train_hand, x_test_hand, y_train_hand, y_test_hand = train_test_split(x_hand, y_hand, test_size=0.2)"
   ]
  },
  {
   "cell_type": "code",
   "execution_count": null,
   "metadata": {},
   "outputs": [],
   "source": [
    "accuracy_hand = []\n",
    "c_hand = 0\n",
    "accuracy_max_hand = 0\n",
    "\n",
    "for i in c_data:\n",
    "    model = LogisticRegression(multi_class='multinomial', penalty='l2', solver='newton-cg', max_iter = 100, C = i)\n",
    "    accuracy = np.mean(cross_val_score(model, x_train, y_train, cv = 5))\n",
    "    accuracy_hand.append(accuracy)\n",
    "    if accuracy_max_hand < accuracy:\n",
    "        accuracy_max_hand = accuracy\n",
    "        c_hand = i\n",
    "\n",
    "print(accuracy_max_hand)\n",
    "plt.plot(x, y)\n",
    "plt.xlabel('C values')\n",
    "plt.ylabel('Accuracies')\n",
    "plt.title('hand graph')\n",
    "plt.show()"
   ]
  },
  {
   "cell_type": "code",
   "execution_count": 19,
   "metadata": {},
   "outputs": [
    {
     "name": "stdout",
     "output_type": "stream",
     "text": [
      "0.8062780631851463\n"
     ]
    },
    {
     "name": "stderr",
     "output_type": "stream",
     "text": [
      "/Users/neeraj/opt/anaconda3/lib/python3.9/site-packages/sklearn/utils/optimize.py:210: ConvergenceWarning: newton-cg failed to converge. Increase the number of iterations.\n",
      "  warnings.warn(\n"
     ]
    }
   ],
   "source": [
    "model1 = LogisticRegression(random_state=0, multi_class='multinomial', penalty='l2', solver='newton-cg', max_iter = 100, C = 0.01).fit(x_train_hand, y_train_hand)\n",
    "preds_hand = model1.predict(x_test_hand)\n",
    "\n",
    "ans_hand = accuracy_score(y_test_hand, preds_hand)\n",
    "print(ans_hand)"
   ]
  },
  {
   "cell_type": "code",
   "execution_count": 7,
   "metadata": {},
   "outputs": [],
   "source": [
    "x_chest = data_chest[:,1:]\n",
    "y_chest = data_chest[:,0]\n",
    "x_train_chest, x_test_chest, y_train_chest, y_test_chest = train_test_split(x_chest, y_chest, test_size=0.2)"
   ]
  },
  {
   "cell_type": "code",
   "execution_count": null,
   "metadata": {},
   "outputs": [],
   "source": [
    "accuracy_chest = []\n",
    "c_chest = 0\n",
    "accuracy_max_chest = 0\n",
    "\n",
    "for i in c_data:\n",
    "    model = LogisticRegression(multi_class='multinomial', penalty='l2', solver='newton-cg', max_iter = 100, C = i)\n",
    "    accuracy = np.mean(cross_val_score(model, x_train, y_train, cv = 5))\n",
    "    accuracy_chest.append(accuracy)\n",
    "    if accuracy_max_chest < accuracy:\n",
    "        accuracy_max_chest = accuracy\n",
    "        c_chest = i\n",
    "\n",
    "print(accuracy_max_chest)\n",
    "plt.plot(x, y)\n",
    "plt.xlabel('C values')\n",
    "plt.ylabel('Accuracies')\n",
    "plt.title('chest graph')\n",
    "plt.show()"
   ]
  },
  {
   "cell_type": "code",
   "execution_count": 8,
   "metadata": {},
   "outputs": [
    {
     "name": "stdout",
     "output_type": "stream",
     "text": [
      "0.8415517171635452\n"
     ]
    },
    {
     "name": "stderr",
     "output_type": "stream",
     "text": [
      "/Users/neeraj/opt/anaconda3/lib/python3.9/site-packages/sklearn/utils/optimize.py:210: ConvergenceWarning: newton-cg failed to converge. Increase the number of iterations.\n",
      "  warnings.warn(\n"
     ]
    }
   ],
   "source": [
    "model1 = LogisticRegression(random_state=0, multi_class='multinomial', penalty='l2', solver='newton-cg', max_iter = 100, C = 0.01).fit(x_train_chest, y_train_chest)\n",
    "preds_chest = model1.predict(x_test_chest)\n",
    "\n",
    "ans_chest = accuracy_score(y_test_chest, preds_chest)\n",
    "print(ans_chest)"
   ]
  },
  {
   "cell_type": "code",
   "execution_count": 9,
   "metadata": {},
   "outputs": [],
   "source": [
    "x_ankle = data_ankle[:,1:]\n",
    "y_ankle = data_ankle[:,0]\n",
    "x_train_ankle, x_test_ankle, y_train_ankle, y_test_ankle = train_test_split(x_ankle, y_ankle, test_size=0.2)"
   ]
  },
  {
   "cell_type": "code",
   "execution_count": null,
   "metadata": {},
   "outputs": [],
   "source": [
    "accuracy_ankle = []\n",
    "c_ankle = 0\n",
    "accuracy_max_ankle = 0\n",
    "\n",
    "for i in c_data:\n",
    "    model = LogisticRegression(multi_class='multinomial', penalty='l2', solver='newton-cg', max_iter = 100, C = i)\n",
    "    accuracy = np.mean(cross_val_score(model, x_train, y_train, cv = 5))\n",
    "    accuracy_ankle.append(accuracy)\n",
    "    if accuracy_max_ankle < accuracy:\n",
    "        accuracy_max_ankle = accuracy\n",
    "        c_aknle = i\n",
    "\n",
    "print(accuracy_max_ankle)\n",
    "plt.plot(x, y)\n",
    "plt.xlabel('C values')\n",
    "plt.ylabel('Accuracies')\n",
    "plt.title('ankle graph')\n",
    "plt.show()"
   ]
  },
  {
   "cell_type": "code",
   "execution_count": 10,
   "metadata": {},
   "outputs": [
    {
     "name": "stdout",
     "output_type": "stream",
     "text": [
      "0.8172404028963229\n"
     ]
    },
    {
     "name": "stderr",
     "output_type": "stream",
     "text": [
      "/Users/neeraj/opt/anaconda3/lib/python3.9/site-packages/sklearn/utils/optimize.py:210: ConvergenceWarning: newton-cg failed to converge. Increase the number of iterations.\n",
      "  warnings.warn(\n"
     ]
    }
   ],
   "source": [
    "model1 = LogisticRegression(random_state=0, multi_class='multinomial', penalty='l2', solver='newton-cg', max_iter = 100, C = 0.01).fit(x_train_ankle, y_train_ankle)\n",
    "preds_ankle = model1.predict(x_test_ankle)\n",
    "\n",
    "ans_ankle = accuracy_score(y_test_ankle, preds_ankle)\n",
    "print(ans_ankle)"
   ]
  }
 ],
 "metadata": {
  "kernelspec": {
   "display_name": "Python 3.9.12 ('base')",
   "language": "python",
   "name": "python3"
  },
  "language_info": {
   "codemirror_mode": {
    "name": "ipython",
    "version": 3
   },
   "file_extension": ".py",
   "mimetype": "text/x-python",
   "name": "python",
   "nbconvert_exporter": "python",
   "pygments_lexer": "ipython3",
   "version": "3.9.12"
  },
  "orig_nbformat": 4,
  "vscode": {
   "interpreter": {
    "hash": "4750d72ed7ec1ff4e19417e44ac36e7982326c017f724af47cd5804766b0b9eb"
   }
  }
 },
 "nbformat": 4,
 "nbformat_minor": 2
}
