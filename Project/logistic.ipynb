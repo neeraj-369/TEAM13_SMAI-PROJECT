{
 "cells": [
  {
   "cell_type": "code",
   "execution_count": null,
   "metadata": {},
   "outputs": [],
   "source": [
    "import numpy as np\n",
    "import pandas as pd\n",
    "from sklearn.model_selection import train_test_split\n",
    "import math\n",
    "import matplotlib.pyplot as plt"
   ]
  },
  {
   "cell_type": "code",
   "execution_count": null,
   "metadata": {},
   "outputs": [],
   "source": [
    "#Load data\n",
    "iris = pd.read_csv('Iris.csv')\n",
    "#data cleaning\n",
    "iris.drop(columns=\"Id\",inplace=True)"
   ]
  },
  {
   "cell_type": "code",
   "execution_count": null,
   "metadata": {},
   "outputs": [],
   "source": [
    "#features and labels\n",
    "X=iris.iloc[:,0:4].values\n",
    "y=iris.iloc[:,4].values\n",
    "\n",
    "#Train and Test split\n",
    "X_train,X_test,y_train,y_test=train_test_split(X,y,test_size=0.2)\n",
    "\n",
    "y_test"
   ]
  },
  {
   "cell_type": "code",
   "execution_count": null,
   "metadata": {},
   "outputs": [],
   "source": [
    "def logistic(x_train, y_train):\n",
    "    w = np.zeros((x_train.shape[1], 3))\n",
    "    w0 = np.zeros((x_train.shape[0], 1))\n",
    "    alpha = 0.001\n",
    "    cst = []\n",
    "    it = []\n",
    "\n",
    "    for i in range(100000):\n",
    "        Z = (np.dot(x_train, w) + w0).T\n",
    "        A = 1 / ( 1 + np.exp(-Z))\n",
    "        A = A.T\n",
    "        print(A)\n",
    "        # cost = -(1/x_train.shape[0]) * np.sum(y_train * np.log(A) + (1 - y_train) * np.log(1 - A))\n",
    "        dw = (1/X.shape[0]) * np.dot((A - y_train).T, x_train)\n",
    "        dw0 = (1/X.shape[0]) * np.sum(A - y_train)\n",
    "        w = w - alpha * (dw).T\n",
    "        w0 = w0 - alpha * (dw0)\n",
    "        it.append(i)\n",
    "        # cst.append(cost)\n",
    "\n",
    "\n",
    "    plt.plot(it, cst)\n",
    "    plt.show()\n",
    "    return w, w0"
   ]
  },
  {
   "cell_type": "code",
   "execution_count": null,
   "metadata": {},
   "outputs": [],
   "source": [
    "def find_accuracy(w, w0, y_pred, y_test):\n",
    "    accuracy = 0\n",
    "    y_pred = []\n",
    "    n = y_test.shape[0]\n",
    "    for i in range(0, n):\n",
    "        if(y_test[i] == y_pred[i]):\n",
    "            accuracy+=1\n",
    "    return (accuracy / n) * 100"
   ]
  },
  {
   "cell_type": "code",
   "execution_count": null,
   "metadata": {},
   "outputs": [],
   "source": [
    "def predict(x_test, w, w0):\n",
    "    y_pred = []\n",
    "    y_pred = x_test * w + w0\n",
    "    y_pred = np.argmax(y_test, axis = 1)\n",
    "    return y_pred"
   ]
  },
  {
   "cell_type": "code",
   "execution_count": null,
   "metadata": {},
   "outputs": [],
   "source": [
    "w, w0 = logistic(X_train, y_train)\n",
    "y_pred = predict(X_test, w, w0)\n",
    "accuracy = find_accuracy(w, w0, y_pred, y_test)\n",
    "print(\"accuracy for multiclass logistic regression is :\", accuracy)"
   ]
  }
 ],
 "metadata": {
  "kernelspec": {
   "display_name": "Python 3.9.12 ('base')",
   "language": "python",
   "name": "python3"
  },
  "language_info": {
   "codemirror_mode": {
    "name": "ipython",
    "version": 3
   },
   "file_extension": ".py",
   "mimetype": "text/x-python",
   "name": "python",
   "nbconvert_exporter": "python",
   "pygments_lexer": "ipython3",
   "version": "3.9.12"
  },
  "orig_nbformat": 4,
  "vscode": {
   "interpreter": {
    "hash": "4750d72ed7ec1ff4e19417e44ac36e7982326c017f724af47cd5804766b0b9eb"
   }
  }
 },
 "nbformat": 4,
 "nbformat_minor": 2
}
